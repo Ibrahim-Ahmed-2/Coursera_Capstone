{
 "cells": [
  {
   "cell_type": "markdown",
   "metadata": {},
   "source": [
    "Coursera capstone\n"
   ]
  },
  {
   "cell_type": "code",
   "execution_count": 16,
   "metadata": {},
   "outputs": [
    {
     "name": "stdout",
     "output_type": "stream",
     "text": [
      "Hello Capstone Project Course!\n"
     ]
    }
   ],
   "source": [
    "import pandas as pd\n",
    "import numpy as np\n",
    "from sklearn.linear_model import LinearRegression\n",
    "print(\"Hello Capstone Project Course!\")"
   ]
  },
  {
   "cell_type": "code",
   "execution_count": 17,
   "metadata": {},
   "outputs": [],
   "source": [
    "df = pd.read_csv(\"https://lincolnshire.ckan.io/dataset/c2d3319a-4a35-4e38-baa1-d85e33fd8d9c/resource/266fac8f-4409-4db6-adf8-cb76f1450445/download/houseprices.csv\")"
   ]
  },
  {
   "cell_type": "code",
   "execution_count": null,
   "metadata": {},
   "outputs": [],
   "source": []
  },
  {
   "cell_type": "code",
   "execution_count": 20,
   "metadata": {},
   "outputs": [],
   "source": [
    "lm=LinearRegression()"
   ]
  },
  {
   "cell_type": "code",
   "execution_count": 31,
   "metadata": {},
   "outputs": [
    {
     "data": {
      "text/plain": [
       "array([186964.22304671])"
      ]
     },
     "execution_count": 31,
     "metadata": {},
     "output_type": "execute_result"
    }
   ],
   "source": [
    "x=df[[\"AveragePriceDetached\"]]\n",
    "y=df[\"AveragePrice\"]\n",
    "lm.fit(x,y)\n",
    "lm.predict(x)"
   ]
  },
  {
   "cell_type": "code",
   "execution_count": 24,
   "metadata": {},
   "outputs": [
    {
     "data": {
      "text/html": [
       "<div>\n",
       "<style scoped>\n",
       "    .dataframe tbody tr th:only-of-type {\n",
       "        vertical-align: middle;\n",
       "    }\n",
       "\n",
       "    .dataframe tbody tr th {\n",
       "        vertical-align: top;\n",
       "    }\n",
       "\n",
       "    .dataframe thead th {\n",
       "        text-align: right;\n",
       "    }\n",
       "</style>\n",
       "<table border=\"1\" class=\"dataframe\">\n",
       "  <thead>\n",
       "    <tr style=\"text-align: right;\">\n",
       "      <th></th>\n",
       "      <th>AveragePrice</th>\n",
       "      <th>AveragePriceDetached</th>\n",
       "      <th>AveragePriceSemiDetached</th>\n",
       "      <th>AveragePriceTerraced</th>\n",
       "      <th>AveragePriceFlatOrMaisonette</th>\n",
       "    </tr>\n",
       "  </thead>\n",
       "  <tbody>\n",
       "    <tr>\n",
       "      <th>AveragePrice</th>\n",
       "      <td>1.000000</td>\n",
       "      <td>0.750718</td>\n",
       "      <td>0.786254</td>\n",
       "      <td>0.874543</td>\n",
       "      <td>0.562630</td>\n",
       "    </tr>\n",
       "    <tr>\n",
       "      <th>AveragePriceDetached</th>\n",
       "      <td>0.750718</td>\n",
       "      <td>1.000000</td>\n",
       "      <td>0.965257</td>\n",
       "      <td>0.952750</td>\n",
       "      <td>0.878430</td>\n",
       "    </tr>\n",
       "    <tr>\n",
       "      <th>AveragePriceSemiDetached</th>\n",
       "      <td>0.786254</td>\n",
       "      <td>0.965257</td>\n",
       "      <td>1.000000</td>\n",
       "      <td>0.984081</td>\n",
       "      <td>0.886772</td>\n",
       "    </tr>\n",
       "    <tr>\n",
       "      <th>AveragePriceTerraced</th>\n",
       "      <td>0.874543</td>\n",
       "      <td>0.952750</td>\n",
       "      <td>0.984081</td>\n",
       "      <td>1.000000</td>\n",
       "      <td>0.846715</td>\n",
       "    </tr>\n",
       "    <tr>\n",
       "      <th>AveragePriceFlatOrMaisonette</th>\n",
       "      <td>0.562630</td>\n",
       "      <td>0.878430</td>\n",
       "      <td>0.886772</td>\n",
       "      <td>0.846715</td>\n",
       "      <td>1.000000</td>\n",
       "    </tr>\n",
       "  </tbody>\n",
       "</table>\n",
       "</div>"
      ],
      "text/plain": [
       "                              AveragePrice  AveragePriceDetached  \\\n",
       "AveragePrice                      1.000000              0.750718   \n",
       "AveragePriceDetached              0.750718              1.000000   \n",
       "AveragePriceSemiDetached          0.786254              0.965257   \n",
       "AveragePriceTerraced              0.874543              0.952750   \n",
       "AveragePriceFlatOrMaisonette      0.562630              0.878430   \n",
       "\n",
       "                              AveragePriceSemiDetached  AveragePriceTerraced  \\\n",
       "AveragePrice                                  0.786254              0.874543   \n",
       "AveragePriceDetached                          0.965257              0.952750   \n",
       "AveragePriceSemiDetached                      1.000000              0.984081   \n",
       "AveragePriceTerraced                          0.984081              1.000000   \n",
       "AveragePriceFlatOrMaisonette                  0.886772              0.846715   \n",
       "\n",
       "                              AveragePriceFlatOrMaisonette  \n",
       "AveragePrice                                      0.562630  \n",
       "AveragePriceDetached                              0.878430  \n",
       "AveragePriceSemiDetached                          0.886772  \n",
       "AveragePriceTerraced                              0.846715  \n",
       "AveragePriceFlatOrMaisonette                      1.000000  "
      ]
     },
     "execution_count": 24,
     "metadata": {},
     "output_type": "execute_result"
    }
   ],
   "source": []
  },
  {
   "cell_type": "code",
   "execution_count": null,
   "metadata": {},
   "outputs": [],
   "source": []
  }
 ],
 "metadata": {
  "kernelspec": {
   "display_name": "Python",
   "language": "python",
   "name": "conda-env-python-py"
  },
  "language_info": {
   "codemirror_mode": {
    "name": "ipython",
    "version": 3
   },
   "file_extension": ".py",
   "mimetype": "text/x-python",
   "name": "python",
   "nbconvert_exporter": "python",
   "pygments_lexer": "ipython3",
   "version": "3.6.11"
  }
 },
 "nbformat": 4,
 "nbformat_minor": 4
}
